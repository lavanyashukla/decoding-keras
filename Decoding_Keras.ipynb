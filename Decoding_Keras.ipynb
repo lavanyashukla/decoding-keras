{
  "nbformat": 4,
  "nbformat_minor": 0,
  "metadata": {
    "colab": {
      "name": "Decoding Keras.ipynb",
      "provenance": [],
      "include_colab_link": true
    },
    "kernelspec": {
      "name": "python3",
      "display_name": "Python 3"
    }
  },
  "cells": [
    {
      "cell_type": "markdown",
      "metadata": {
        "id": "view-in-github",
        "colab_type": "text"
      },
      "source": [
        "<a href=\"https://colab.research.google.com/github/lavanyashukla/decoding-keras/blob/master/Decoding_Keras.ipynb\" target=\"_parent\"><img src=\"https://colab.research.google.com/assets/colab-badge.svg\" alt=\"Open In Colab\"/></a>"
      ]
    },
    {
      "cell_type": "markdown",
      "metadata": {
        "id": "eq13PudiLMrl",
        "colab_type": "text"
      },
      "source": [
        "# Decoding Keras"
      ]
    },
    {
      "cell_type": "markdown",
      "metadata": {
        "id": "Yz-nuoOu-DqL",
        "colab_type": "text"
      },
      "source": [
        "Our goal with this series is to get you up to speed with Keras so you can confidently use it in your research and industry projects. We’ll start from the basics, and by the time you’re done, you’ll be a Keras pro.\n",
        "\n",
        "# Keras Sequential Model\n",
        "\n",
        "A sequential model lets you define a fully connected network of layers where the input of a layer is the output of the previous layer. The Sequential API is very powerful but doesn’t let you create models that have multiple inputs or outputs, or ones that share or re-use layers.\n",
        "\n",
        "<img src=\"https://miro.medium.com/max/2636/1*3fA77_mLNiJTSgZFhYnU0Q.png\" width=\"40%\"/>"
      ]
    },
    {
      "cell_type": "code",
      "metadata": {
        "id": "MbNPmKRtYg_m",
        "colab_type": "code",
        "colab": {}
      },
      "source": [
        "!pip install wandb -q"
      ],
      "execution_count": 0,
      "outputs": []
    },
    {
      "cell_type": "code",
      "metadata": {
        "id": "ExjzPt1JLOdI",
        "colab_type": "code",
        "outputId": "4645208a-5c40-404d-ab96-cefcbec98bb2",
        "colab": {
          "base_uri": "https://localhost:8080/",
          "height": 714
        }
      },
      "source": [
        "import keras\n",
        "from keras.models import Sequential\n",
        "from keras.layers import Dense, Dropout, Activation\n",
        "from keras.optimizers import SGD\n",
        "\n",
        "import numpy as np\n",
        "x_train = np.random.random((1000, 20))\n",
        "y_train = keras.utils.to_categorical(np.random.randint(10, size=(1000, 1)), num_classes=10)\n",
        "x_test = np.random.random((100, 20))\n",
        "y_test = keras.utils.to_categorical(np.random.randint(10, size=(100, 1)), num_classes=10)\n",
        "\n",
        "model = Sequential()\n",
        "# Dense(64) is a fully-connected layer with 64 hidden units. In the first layer, you must specify the expected input data shape: here, 20-dimensional vectors.\n",
        "model.add(Dense(64, activation='relu', input_dim=20))\n",
        "model.add(Dropout(0.5))\n",
        "model.add(Dense(64, activation='relu'))\n",
        "model.add(Dropout(0.5))\n",
        "model.add(Dense(10, activation='softmax'))\n",
        "\n",
        "sgd = SGD(lr=0.01, decay=1e-6, momentum=0.9, nesterov=True)\n",
        "model.compile(loss='categorical_crossentropy',\n",
        "              optimizer=sgd,\n",
        "              metrics=['accuracy'])\n",
        "\n",
        "model.fit(x_train, y_train,\n",
        "          epochs=20,\n",
        "          batch_size=128)\n",
        "score = model.evaluate(x_test, y_test, batch_size=128)"
      ],
      "execution_count": 0,
      "outputs": [
        {
          "output_type": "stream",
          "text": [
            "Epoch 1/20\n",
            "1000/1000 [==============================] - 0s 247us/step - loss: 2.3876 - acc: 0.1120\n",
            "Epoch 2/20\n",
            "1000/1000 [==============================] - 0s 23us/step - loss: 2.3641 - acc: 0.0930\n",
            "Epoch 3/20\n",
            "1000/1000 [==============================] - 0s 27us/step - loss: 2.3447 - acc: 0.1070\n",
            "Epoch 4/20\n",
            "1000/1000 [==============================] - 0s 23us/step - loss: 2.3195 - acc: 0.1020\n",
            "Epoch 5/20\n",
            "1000/1000 [==============================] - 0s 24us/step - loss: 2.3174 - acc: 0.1020\n",
            "Epoch 6/20\n",
            "1000/1000 [==============================] - 0s 21us/step - loss: 2.3165 - acc: 0.1010\n",
            "Epoch 7/20\n",
            "1000/1000 [==============================] - 0s 27us/step - loss: 2.3113 - acc: 0.0980\n",
            "Epoch 8/20\n",
            "1000/1000 [==============================] - 0s 19us/step - loss: 2.3019 - acc: 0.1220\n",
            "Epoch 9/20\n",
            "1000/1000 [==============================] - 0s 26us/step - loss: 2.2996 - acc: 0.1150\n",
            "Epoch 10/20\n",
            "1000/1000 [==============================] - 0s 25us/step - loss: 2.3060 - acc: 0.1120\n",
            "Epoch 11/20\n",
            "1000/1000 [==============================] - 0s 30us/step - loss: 2.3047 - acc: 0.1050\n",
            "Epoch 12/20\n",
            "1000/1000 [==============================] - 0s 21us/step - loss: 2.3137 - acc: 0.1070\n",
            "Epoch 13/20\n",
            "1000/1000 [==============================] - 0s 29us/step - loss: 2.3089 - acc: 0.1030\n",
            "Epoch 14/20\n",
            "1000/1000 [==============================] - 0s 27us/step - loss: 2.3039 - acc: 0.1110\n",
            "Epoch 15/20\n",
            "1000/1000 [==============================] - 0s 22us/step - loss: 2.3058 - acc: 0.1060\n",
            "Epoch 16/20\n",
            "1000/1000 [==============================] - 0s 21us/step - loss: 2.2979 - acc: 0.1220\n",
            "Epoch 17/20\n",
            "1000/1000 [==============================] - 0s 27us/step - loss: 2.2959 - acc: 0.1200\n",
            "Epoch 18/20\n",
            "1000/1000 [==============================] - 0s 31us/step - loss: 2.2978 - acc: 0.1160\n",
            "Epoch 19/20\n",
            "1000/1000 [==============================] - 0s 22us/step - loss: 2.3028 - acc: 0.1180\n",
            "Epoch 20/20\n",
            "1000/1000 [==============================] - 0s 21us/step - loss: 2.2941 - acc: 0.1200\n",
            "100/100 [==============================] - 0s 686us/step\n"
          ],
          "name": "stdout"
        }
      ]
    },
    {
      "cell_type": "code",
      "metadata": {
        "id": "EO15ETBbONYr",
        "colab_type": "code",
        "colab": {}
      },
      "source": [
        ""
      ],
      "execution_count": 0,
      "outputs": []
    }
  ]
}